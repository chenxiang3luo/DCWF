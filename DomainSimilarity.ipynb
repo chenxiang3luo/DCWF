{
 "cells": [
  {
   "cell_type": "code",
   "execution_count": 1,
   "metadata": {},
   "outputs": [],
   "source": [
    "from matplotlib import pyplot as plt\n",
    "import numpy as np\n",
    "import os\n",
    "import sys\n",
    "import time\n",
    "from sklearn.metrics.pairwise import cosine_similarity\n",
    "from sklearn.metrics.pairwise import euclidean_distances\n",
    "import pyemd\n",
    "feature_dir = '/root/datasets/FSCIL/features/'"
   ]
  },
  {
   "cell_type": "code",
   "execution_count": 2,
   "metadata": {},
   "outputs": [
    {
     "name": "stdout",
     "output_type": "stream",
     "text": [
      "Original feature shape: (1917105, 512)\n",
      "Number of classes: 774\n",
      "Feature per class shape: (774, 512)\n"
     ]
    }
   ],
   "source": [
    "\n",
    "ss = ['AWF_775_complete']\n",
    "dataset = 'AWF_775_complete'\n",
    "#'AWF_novel','AWF_base','tor_time_test3d_200w_100tr'\n",
    "# Load extracted features on CUB-200.\n",
    "feature = np.load(feature_dir + dataset + '_feature.npy')\n",
    "label = np.load(feature_dir + dataset + '_labels.npy')\n",
    "\n",
    "# CUB-200 training set contains 5994 images from 200 classes, each image is \n",
    "# represented by a 2048-dimensional feature from the pre-trained ResNet-101.\n",
    "print('Original feature shape: (%d, %d)' % (feature.shape[0], feature.shape[1]))\n",
    "print('Number of classes: %d' % (len(np.unique(label))))\n",
    "\n",
    "# Calculate class feature as the averaged features among all images of the class.\n",
    "# Class weight is defined as the number of images of the class.\n",
    "sorted_label = sorted(list(set(label)))\n",
    "feature_per_class = np.zeros((len(sorted_label), 512), dtype=np.float32)\n",
    "weight = np.zeros((len(sorted_label), ), dtype=np.float32)\n",
    "counter = 0\n",
    "for i in sorted_label:\n",
    "    idx = [(l==i) for l in label]\n",
    "    feature_per_class[counter, :] = np.mean(feature[idx, :], axis=0)\n",
    "    weight[counter] = np.sum(idx)\n",
    "    counter += 1\n",
    "\n",
    "print('Feature per class shape: (%d, %d)' % (feature_per_class.shape[0], \n",
    "                                             feature_per_class.shape[1]))\n",
    "\n",
    "np.save(feature_dir + dataset + '.npy', feature_per_class)\n",
    "np.save(feature_dir + dataset + '_weight.npy', weight)\n"
   ]
  },
  {
   "cell_type": "code",
   "execution_count": 9,
   "metadata": {},
   "outputs": [
    {
     "data": {
      "text/plain": [
       "array([  0, 100,   0, ..., 100, 100, 100])"
      ]
     },
     "execution_count": 9,
     "metadata": {},
     "output_type": "execute_result"
    }
   ],
   "source": [
    "label"
   ]
  },
  {
   "cell_type": "code",
   "execution_count": 4,
   "metadata": {},
   "outputs": [
    {
     "name": "stdout",
     "output_type": "stream",
     "text": [
      "AWF_775 --> tor_100w_2500tr\n",
      "EMD: 10.892    Domain Similarity: 0.336\n",
      "\n",
      "AWF_775 --> tor_time_test3d_200w_100tr\n",
      "EMD: 10.291    Domain Similarity: 0.357\n",
      "\n",
      "AWF_775 --> tor_time_test10d_200w_100tr\n",
      "EMD: 10.343    Domain Similarity: 0.355\n",
      "\n",
      "AWF_775 --> tor_time_test2w_200w_100tr\n",
      "EMD: 10.373    Domain Similarity: 0.354\n",
      "\n",
      "AWF_775 --> tor_time_test4w_200w_100tr\n",
      "EMD: 10.380    Domain Similarity: 0.354\n",
      "\n",
      "AWF_775 --> KNN\n",
      "EMD: 12.845    Domain Similarity: 0.277\n",
      "\n",
      "AWF_775 --> DF19\n",
      "EMD: 13.782    Domain Similarity: 0.252\n",
      "\n",
      "AWF_775 --> DF95\n",
      "EMD: 13.664    Domain Similarity: 0.255\n",
      "\n"
     ]
    }
   ],
   "source": [
    "sds = ['AWF_775']\n",
    "# \n",
    "tds = ['tor_100w_2500tr','tor_time_test3d_200w_100tr','tor_time_test10d_200w_100tr','tor_time_test2w_200w_100tr','tor_time_test4w_200w_100tr','KNN','DF19','DF95']\n",
    "# ,'KNN','DF95','tor_time_test3d_200w_100tr','tor_time_test10d_200w_100tr','tor_time_test2w_200w_100tr','tor_time_test4w_200w_100tr','tor_time_test6w_200w_100tr'\n",
    "gamma = 0.1\n",
    "for sd in sds:\n",
    "    for td in tds:\n",
    "        print('%s --> %s' % (sd, td))\n",
    "        f_s = np.load(feature_dir + sd + '.npy')\n",
    "        f_t = np.load(feature_dir + td + '.npy')\n",
    "        w_s = np.load(feature_dir + sd + '_weight.npy')\n",
    "        w_t = np.load(feature_dir + td + '_weight.npy')\n",
    "        # Remove source domain classes with number of images < 'min_num_imgs'.\n",
    "        idx = [i for i in range(len(w_s)) if w_s[i] >= 0]\n",
    "        f_s = f_s[idx, :]\n",
    "        w_s = w_s[idx]\n",
    "        # Make sure two histograms have the same length and distance matrix is square.\n",
    "        data = np.float64(np.append(f_s, f_t, axis=0))\n",
    "        w_1 = np.zeros((len(w_s) + len(w_t),), np.float64)\n",
    "        w_2 = np.zeros((len(w_s) + len(w_t),), np.float64)\n",
    "        w_1[:len(w_s)] = w_s / np.sum(w_s)\n",
    "        w_2[len(w_s):] = w_t / np.sum(w_t)\n",
    "        D = euclidean_distances(data, data)\n",
    "        emd,flow = pyemd.emd_with_flow(np.float64(w_1), np.float64(w_2), np.float64(D))\n",
    "        print('EMD: %.3f    Domain Similarity: %.3f\\n' % (emd, np.exp(-gamma*emd)))"
   ]
  },
  {
   "cell_type": "code",
   "execution_count": null,
   "metadata": {},
   "outputs": [],
   "source": [
    "flow = np.array(flow)\n",
    "np.where(flow>0)"
   ]
  },
  {
   "attachments": {},
   "cell_type": "markdown",
   "metadata": {},
   "source": [
    "## class overlap"
   ]
  },
  {
   "cell_type": "code",
   "execution_count": 1,
   "metadata": {},
   "outputs": [],
   "source": [
    "import numpy as np\n",
    "file_name = '/root/datasets/FSCIL/'+'AWF_775'+'.npz'\n",
    "train_novel = np.load(file_name,allow_pickle=True)\n",
    "train_data_775 = train_novel['data']\n",
    "train_labels_775 = train_novel['labels']\n",
    "classes = np.unique(train_labels_775)\n",
    "file_name = '/root/datasets/FSCIL/'+'tor_900w_2500tr'+'.npz'\n",
    "train_novel = np.load(file_name,allow_pickle=True)\n",
    "train_data_900 = train_novel['data']\n",
    "train_labels_900 = train_novel['labels']\n",
    "cla = [c[19:] for c in classes]\n",
    "data = []\n",
    "label = []\n",
    "for novel_class in cla:\n",
    "    inds = np.argwhere(train_labels_900==novel_class)\n",
    "    inds = inds.reshape(-1)\n",
    "    data.extend(train_data_900[inds])\n",
    "    label.extend(train_labels_900[inds])\n",
    "data = np.array(data)\n",
    "label = np.array(label)\n",
    "np.savez('AWF_775_complete.npz',data=data,labels=label)"
   ]
  },
  {
   "cell_type": "code",
   "execution_count": 8,
   "metadata": {},
   "outputs": [],
   "source": [
    "cla = [c[19:] for c in classes]\n",
    "data = []\n",
    "label = []\n",
    "for novel_class in cla[-2:]:\n",
    "    inds = np.argwhere(train_labels_900==novel_class)\n",
    "    inds = inds.reshape(-1)\n",
    "    data.extend(train_data_900[inds])\n",
    "    label.extend(train_labels_900[inds])\n",
    "data = np.array(data)\n",
    "label = np.array(label)"
   ]
  },
  {
   "cell_type": "code",
   "execution_count": 9,
   "metadata": {},
   "outputs": [
    {
     "data": {
      "text/plain": [
       "array(['zougla.gr', 'zougla.gr', 'zougla.gr', ..., 'zytpirwai.net',\n",
       "       'zytpirwai.net', 'zytpirwai.net'], dtype='<U13')"
      ]
     },
     "execution_count": 9,
     "metadata": {},
     "output_type": "execute_result"
    },
    {
     "ename": "",
     "evalue": "",
     "output_type": "error",
     "traceback": [
      "\u001b[1;31mThe Kernel crashed while executing code in the the current cell or a previous cell. Please review the code in the cell(s) to identify a possible cause of the failure. Click <a href='https://aka.ms/vscodeJupyterKernelCrash'>here</a> for more info. View Jupyter <a href='command:jupyter.viewOutput'>log</a> for further details."
     ]
    }
   ],
   "source": []
  }
 ],
 "metadata": {
  "kernelspec": {
   "display_name": "base",
   "language": "python",
   "name": "python3"
  },
  "language_info": {
   "codemirror_mode": {
    "name": "ipython",
    "version": 3
   },
   "file_extension": ".py",
   "mimetype": "text/x-python",
   "name": "python",
   "nbconvert_exporter": "python",
   "pygments_lexer": "ipython3",
   "version": "3.10.10"
  },
  "orig_nbformat": 4
 },
 "nbformat": 4,
 "nbformat_minor": 2
}
