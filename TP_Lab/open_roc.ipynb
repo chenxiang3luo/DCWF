{
 "cells": [
  {
   "cell_type": "code",
   "execution_count": 1,
   "metadata": {},
   "outputs": [],
   "source": [
    "import joblib\n",
    "import torch\n",
    "import numpy as np\n",
    "import random\n",
    "from sklearn.neighbors import KNeighborsClassifier\n",
    "from sklearn.model_selection import train_test_split\n",
    "from DF_model_Torch import DF\n",
    "def setup_seed(seed):\n",
    "     torch.manual_seed(seed)\n",
    "     torch.cuda.manual_seed_all(seed)\n",
    "     np.random.seed(seed)\n",
    "     random.seed(seed)\n",
    "setup_seed(42)"
   ]
  },
  {
   "cell_type": "code",
   "execution_count": 2,
   "metadata": {},
   "outputs": [
    {
     "data": {
      "text/plain": [
       "<All keys matched successfully>"
      ]
     },
     "execution_count": 2,
     "metadata": {},
     "output_type": "execute_result"
    }
   ],
   "source": [
    "model_path = './trained_model/AWF_775_model.pt'\n",
    "checkpoint = torch.load(model_path)\n",
    "feature_model = DF(64)\n",
    "feature_model.cuda()\n",
    "feature_model.load_state_dict(checkpoint)"
   ]
  },
  {
   "cell_type": "code",
   "execution_count": 4,
   "metadata": {},
   "outputs": [],
   "source": [
    "def create_test_set_AWF_open(features_model,dataset,shot,size,class_num):\n",
    "    n_query = 70\n",
    "    knn = joblib.load(f'./trained_model/knn_model_{dataset}_{shot}.pkl')\n",
    "    train_name = f'/root/datasets/FSCIL/{dataset}.npz'\n",
    "    train_dataset = np.load(train_name,allow_pickle=True)\n",
    "    train_data = train_dataset['data']\n",
    "    train_labels = train_dataset['labels']\n",
    "    if( shot == 20 and dataset == 'KNN'):\n",
    "        X_test = train_data\n",
    "        y_test = train_labels\n",
    "    else:\n",
    "        X_train,X_test, y_train, y_test =train_test_split(train_data,train_labels,test_size=(shot+n_query)*class_num, random_state=42,shuffle=True,stratify=train_labels)\n",
    "    y_test = np.array([lab for lab in y_test])\n",
    "    unique = np.unique(y_test)\n",
    "    unique = unique[np.random.permutation(unique.shape[0])]\n",
    "    labels = []\n",
    "    proba = []\n",
    "    for cla in unique:\n",
    "        inds_train = np.argwhere(y_test==cla)\n",
    "\n",
    "        samples_train = inds_train.reshape(-1)\n",
    "        \n",
    "        query = np.array(X_test[samples_train][shot:])\n",
    "        query = query.reshape(query.shape[0],1,query.shape[1])\n",
    "\n",
    "        query = torch.tensor(query,dtype=torch.float32).cuda()\n",
    "        features_model.eval()\n",
    "        with torch.no_grad():\n",
    "            proba.extend(knn.predict_proba(np.array(features_model(query).cpu())))\n",
    "            labels.extend([1 for i in range(n_query)])\n",
    "    print(len(proba))\n",
    "    train_name = f'/root/datasets/FSCIL/AWF_{size}.npz'\n",
    "    train_dataset = np.load(train_name,allow_pickle=True)\n",
    "    train_data = train_dataset['data']\n",
    "    for i in range(0,size,200):\n",
    "        query = np.array(train_data[i:i+200])\n",
    "        query = query.reshape(query.shape[0],1,query.shape[1])\n",
    "        query = torch.tensor(query,dtype=torch.float32).cuda()\n",
    "        features_model.eval()\n",
    "        with torch.no_grad():\n",
    "            proba.extend(knn.predict_proba(np.array(features_model(query).cpu())))\n",
    "            labels.extend([0 for i in range(200)])\n",
    "    print(len(proba))\n",
    "    return proba, labels\n",
    "def cross_entropy(predictions, targets):\n",
    "    epsilon = 1e-12  # 添加一个小的常数，避免log(0)的情况\n",
    "\n",
    "    predictions = np.clip(predictions, epsilon, 1.0 - epsilon)  # 限制预测值的范围\n",
    "    ce = -np.sum(targets * np.log(predictions), axis=1)  # 计算交叉熵\n",
    "\n",
    "    return ce"
   ]
  },
  {
   "cell_type": "code",
   "execution_count": 44,
   "metadata": {},
   "outputs": [
    {
     "name": "stdout",
     "output_type": "stream",
     "text": [
      "7000\n",
      "57000\n",
      "0.9663724114285716\n",
      "7000\n",
      "107000\n",
      "0.9663572499999998\n",
      "7000\n",
      "207000\n",
      "0.96643236\n",
      "7000\n",
      "406989\n",
      "0.9664379388290321\n"
     ]
    }
   ],
   "source": [
    "import matplotlib.pyplot as plt\n",
    "from sklearn.metrics import precision_recall_curve,roc_auc_score\n",
    "for size in [50000,100000,200000,400000]:\n",
    "    size = size\n",
    "    class_num = 100\n",
    "    prob,lab = create_test_set_AWF_open(feature_model,'DF19',10,size,class_num)\n",
    "    if(size == 400000):\n",
    "        for i in range(11):\n",
    "            lab.pop()\n",
    "        tol = 70*class_num+size-11\n",
    "    else:\n",
    "        tol = 70*class_num+size\n",
    "    prob = np.array(prob)\n",
    "    ll = np.ones([tol, class_num])\n",
    "    va = cross_entropy(prob,ll)\n",
    "\n",
    "    precision, recall, thresholds = precision_recall_curve(lab,va)\n",
    "    # plt.plot(recall, precision)\n",
    "    # plt.xlabel('Recall')\n",
    "    # plt.ylabel('Precision')\n",
    "    # plt.title('Precision-Recall Curve')\n",
    "    # plt.show()\n",
    "    print(roc_auc_score(lab,va))"
   ]
  },
  {
   "cell_type": "code",
   "execution_count": 39,
   "metadata": {},
   "outputs": [
    {
     "data": {
      "image/png": "[encoded data removed]",
      "text/plain": [
       "<Figure size 640x480 with 1 Axes>"
      ]
     },
     "metadata": {},
     "output_type": "display_data"
    },
    {
     "data": {
      "text/plain": [
       "0.9125182623224729"
      ]
     },
     "execution_count": 39,
     "metadata": {},
     "output_type": "execute_result"
    }
   ],
   "source": [
    "\n",
    "import matplotlib.pyplot as plt\n",
    "from sklearn.metrics import precision_recall_curve,roc_auc_score\n",
    "precision, recall, thresholds = precision_recall_curve(lab,va)\n",
    "plt.plot(recall, precision)\n",
    "plt.xlabel('Recall')\n",
    "plt.ylabel('Precision')\n",
    "plt.title('Precision-Recall Curve')\n",
    "plt.show()\n",
    "roc_auc_score(lab,va)\n"
   ]
  },
  {
   "cell_type": "code",
   "execution_count": 12,
   "metadata": {},
   "outputs": [
    {
     "data": {
      "text/plain": [
       "array([[0.        , 0.        , 0.        , ..., 0.        , 0.        ,\n",
       "        0.        ],\n",
       "       [0.        , 0.        , 0.        , ..., 0.        , 0.        ,\n",
       "        0.        ],\n",
       "       [0.        , 0.        , 0.        , ..., 0.        , 0.        ,\n",
       "        0.        ],\n",
       "       ...,\n",
       "       [0.        , 0.        , 0.        , ..., 0.20246156, 0.19466791,\n",
       "        0.        ],\n",
       "       [0.        , 0.        , 0.        , ..., 0.        , 0.        ,\n",
       "        0.        ],\n",
       "       [0.        , 0.        , 0.        , ..., 0.        , 0.        ,\n",
       "        0.        ]])"
      ]
     },
     "execution_count": 12,
     "metadata": {},
     "output_type": "execute_result"
    }
   ],
   "source": []
  }
 ],
 "metadata": {
  "kernelspec": {
   "display_name": "base",
   "language": "python",
   "name": "python3"
  },
  "language_info": {
   "codemirror_mode": {
    "name": "ipython",
    "version": 3
   },
   "file_extension": ".py",
   "mimetype": "text/x-python",
   "name": "python",
   "nbconvert_exporter": "python",
   "pygments_lexer": "ipython3",
   "version": "3.10.10"
  },
  "orig_nbformat": 4
 },
 "nbformat": 4,
 "nbformat_minor": 2
}
